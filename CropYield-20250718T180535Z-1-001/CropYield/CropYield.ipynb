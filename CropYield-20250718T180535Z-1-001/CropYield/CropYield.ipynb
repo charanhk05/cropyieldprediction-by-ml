{
 "cells": [
  {
   "cell_type": "code",
   "execution_count": 48,
   "id": "bb5bf8c5",
   "metadata": {},
   "outputs": [],
   "source": [
    "import pandas as pd\n",
    "import matplotlib.pyplot as plt"
   ]
  },
  {
   "cell_type": "code",
   "execution_count": 49,
   "id": "1ebac83f",
   "metadata": {},
   "outputs": [],
   "source": [
    "# data=pd.read_csv(r\"D:\\2022BE Projects\\sunflower yeild\\dataset.csv\")\n",
    "data=pd.read_csv(r\"D:\\CropYield\\dataset.csv\")"
   ]
  },
  {
   "cell_type": "code",
   "execution_count": 50,
   "id": "c27679bc",
   "metadata": {},
   "outputs": [
    {
     "data": {
      "text/html": [
       "<div>\n",
       "<style scoped>\n",
       "    .dataframe tbody tr th:only-of-type {\n",
       "        vertical-align: middle;\n",
       "    }\n",
       "\n",
       "    .dataframe tbody tr th {\n",
       "        vertical-align: top;\n",
       "    }\n",
       "\n",
       "    .dataframe thead th {\n",
       "        text-align: right;\n",
       "    }\n",
       "</style>\n",
       "<table border=\"1\" class=\"dataframe\">\n",
       "  <thead>\n",
       "    <tr style=\"text-align: right;\">\n",
       "      <th></th>\n",
       "      <th>id</th>\n",
       "      <th>water</th>\n",
       "      <th>uv</th>\n",
       "      <th>area</th>\n",
       "      <th>fertilizer_usage</th>\n",
       "      <th>pesticides</th>\n",
       "      <th>region</th>\n",
       "      <th>categories</th>\n",
       "      <th>yield</th>\n",
       "    </tr>\n",
       "  </thead>\n",
       "  <tbody>\n",
       "    <tr>\n",
       "      <th>0</th>\n",
       "      <td>169</td>\n",
       "      <td>5.615</td>\n",
       "      <td>65.281</td>\n",
       "      <td>3.230</td>\n",
       "      <td>0</td>\n",
       "      <td>8.969</td>\n",
       "      <td>0</td>\n",
       "      <td>b,a,c</td>\n",
       "      <td>7.977</td>\n",
       "    </tr>\n",
       "    <tr>\n",
       "      <th>1</th>\n",
       "      <td>476</td>\n",
       "      <td>7.044</td>\n",
       "      <td>73.319</td>\n",
       "      <td>9.081</td>\n",
       "      <td>0</td>\n",
       "      <td>7.197</td>\n",
       "      <td>0</td>\n",
       "      <td>c,a,d</td>\n",
       "      <td>23.009</td>\n",
       "    </tr>\n",
       "    <tr>\n",
       "      <th>2</th>\n",
       "      <td>152</td>\n",
       "      <td>5.607</td>\n",
       "      <td>60.038</td>\n",
       "      <td>2.864</td>\n",
       "      <td>2</td>\n",
       "      <td>7.424</td>\n",
       "      <td>0</td>\n",
       "      <td>d,a</td>\n",
       "      <td>23.019</td>\n",
       "    </tr>\n",
       "    <tr>\n",
       "      <th>3</th>\n",
       "      <td>293</td>\n",
       "      <td>9.346</td>\n",
       "      <td>64.719</td>\n",
       "      <td>2.797</td>\n",
       "      <td>2</td>\n",
       "      <td>1.256</td>\n",
       "      <td>0</td>\n",
       "      <td>d</td>\n",
       "      <td>28.066</td>\n",
       "    </tr>\n",
       "    <tr>\n",
       "      <th>4</th>\n",
       "      <td>10</td>\n",
       "      <td>7.969</td>\n",
       "      <td>NaN</td>\n",
       "      <td>5.407</td>\n",
       "      <td>1</td>\n",
       "      <td>0.274</td>\n",
       "      <td>0</td>\n",
       "      <td>c,d</td>\n",
       "      <td>29.140</td>\n",
       "    </tr>\n",
       "    <tr>\n",
       "      <th>...</th>\n",
       "      <td>...</td>\n",
       "      <td>...</td>\n",
       "      <td>...</td>\n",
       "      <td>...</td>\n",
       "      <td>...</td>\n",
       "      <td>...</td>\n",
       "      <td>...</td>\n",
       "      <td>...</td>\n",
       "      <td>...</td>\n",
       "    </tr>\n",
       "    <tr>\n",
       "      <th>4351</th>\n",
       "      <td>614</td>\n",
       "      <td>6.379</td>\n",
       "      <td>94.132</td>\n",
       "      <td>11.571</td>\n",
       "      <td>5</td>\n",
       "      <td>2.891</td>\n",
       "      <td>6</td>\n",
       "      <td>c,b</td>\n",
       "      <td>98.673</td>\n",
       "    </tr>\n",
       "    <tr>\n",
       "      <th>4352</th>\n",
       "      <td>490</td>\n",
       "      <td>6.980</td>\n",
       "      <td>82.727</td>\n",
       "      <td>11.264</td>\n",
       "      <td>5</td>\n",
       "      <td>3.500</td>\n",
       "      <td>6</td>\n",
       "      <td>d,c,b</td>\n",
       "      <td>101.090</td>\n",
       "    </tr>\n",
       "    <tr>\n",
       "      <th>4353</th>\n",
       "      <td>392</td>\n",
       "      <td>NaN</td>\n",
       "      <td>58.218</td>\n",
       "      <td>11.859</td>\n",
       "      <td>4</td>\n",
       "      <td>4.005</td>\n",
       "      <td>6</td>\n",
       "      <td>c,b,a</td>\n",
       "      <td>103.673</td>\n",
       "    </tr>\n",
       "    <tr>\n",
       "      <th>4354</th>\n",
       "      <td>773</td>\n",
       "      <td>10.070</td>\n",
       "      <td>67.905</td>\n",
       "      <td>11.567</td>\n",
       "      <td>4</td>\n",
       "      <td>2.339</td>\n",
       "      <td>6</td>\n",
       "      <td>a</td>\n",
       "      <td>104.343</td>\n",
       "    </tr>\n",
       "    <tr>\n",
       "      <th>4355</th>\n",
       "      <td>104</td>\n",
       "      <td>7.679</td>\n",
       "      <td>NaN</td>\n",
       "      <td>13.489</td>\n",
       "      <td>5</td>\n",
       "      <td>1.974</td>\n",
       "      <td>6</td>\n",
       "      <td>a</td>\n",
       "      <td>106.421</td>\n",
       "    </tr>\n",
       "  </tbody>\n",
       "</table>\n",
       "<p>4356 rows × 9 columns</p>\n",
       "</div>"
      ],
      "text/plain": [
       "       id   water      uv    area  fertilizer_usage  pesticides  region  \\\n",
       "0     169   5.615  65.281   3.230                 0       8.969       0   \n",
       "1     476   7.044  73.319   9.081                 0       7.197       0   \n",
       "2     152   5.607  60.038   2.864                 2       7.424       0   \n",
       "3     293   9.346  64.719   2.797                 2       1.256       0   \n",
       "4      10   7.969     NaN   5.407                 1       0.274       0   \n",
       "...   ...     ...     ...     ...               ...         ...     ...   \n",
       "4351  614   6.379  94.132  11.571                 5       2.891       6   \n",
       "4352  490   6.980  82.727  11.264                 5       3.500       6   \n",
       "4353  392     NaN  58.218  11.859                 4       4.005       6   \n",
       "4354  773  10.070  67.905  11.567                 4       2.339       6   \n",
       "4355  104   7.679     NaN  13.489                 5       1.974       6   \n",
       "\n",
       "     categories    yield  \n",
       "0         b,a,c    7.977  \n",
       "1         c,a,d   23.009  \n",
       "2           d,a   23.019  \n",
       "3             d   28.066  \n",
       "4           c,d   29.140  \n",
       "...         ...      ...  \n",
       "4351        c,b   98.673  \n",
       "4352      d,c,b  101.090  \n",
       "4353      c,b,a  103.673  \n",
       "4354          a  104.343  \n",
       "4355          a  106.421  \n",
       "\n",
       "[4356 rows x 9 columns]"
      ]
     },
     "execution_count": 50,
     "metadata": {},
     "output_type": "execute_result"
    }
   ],
   "source": [
    "data"
   ]
  },
  {
   "cell_type": "code",
   "execution_count": 51,
   "id": "32124f75",
   "metadata": {},
   "outputs": [
    {
     "name": "stdout",
     "output_type": "stream",
     "text": [
      "<class 'pandas.core.frame.DataFrame'>\n",
      "RangeIndex: 4356 entries, 0 to 4355\n",
      "Data columns (total 9 columns):\n",
      " #   Column            Non-Null Count  Dtype  \n",
      "---  ------            --------------  -----  \n",
      " 0   id                4356 non-null   int64  \n",
      " 1   water             4174 non-null   float64\n",
      " 2   uv                4136 non-null   float64\n",
      " 3   area              4356 non-null   float64\n",
      " 4   fertilizer_usage  4356 non-null   int64  \n",
      " 5   pesticides        4356 non-null   float64\n",
      " 6   region            4356 non-null   int64  \n",
      " 7   categories        4356 non-null   object \n",
      " 8   yield             4356 non-null   float64\n",
      "dtypes: float64(5), int64(3), object(1)\n",
      "memory usage: 306.4+ KB\n"
     ]
    }
   ],
   "source": [
    "data.info()"
   ]
  },
  {
   "cell_type": "code",
   "execution_count": 52,
   "id": "fc1f6d7b",
   "metadata": {},
   "outputs": [
    {
     "data": {
      "text/plain": [
       "(4356, 9)"
      ]
     },
     "execution_count": 52,
     "metadata": {},
     "output_type": "execute_result"
    }
   ],
   "source": [
    "data.shape"
   ]
  },
  {
   "cell_type": "code",
   "execution_count": 53,
   "id": "d7075240",
   "metadata": {},
   "outputs": [
    {
     "data": {
      "text/plain": [
       "Index(['id', 'water', 'uv', 'area', 'fertilizer_usage', 'pesticides', 'region',\n",
       "       'categories', 'yield'],\n",
       "      dtype='object')"
      ]
     },
     "execution_count": 53,
     "metadata": {},
     "output_type": "execute_result"
    }
   ],
   "source": [
    "data.columns"
   ]
  },
  {
   "cell_type": "code",
   "execution_count": 54,
   "id": "9ecc8130",
   "metadata": {},
   "outputs": [],
   "source": [
    "data=data.drop(columns=['id','categories'],axis=1)"
   ]
  },
  {
   "cell_type": "code",
   "execution_count": 55,
   "id": "ba034270",
   "metadata": {},
   "outputs": [
    {
     "data": {
      "text/html": [
       "<div>\n",
       "<style scoped>\n",
       "    .dataframe tbody tr th:only-of-type {\n",
       "        vertical-align: middle;\n",
       "    }\n",
       "\n",
       "    .dataframe tbody tr th {\n",
       "        vertical-align: top;\n",
       "    }\n",
       "\n",
       "    .dataframe thead th {\n",
       "        text-align: right;\n",
       "    }\n",
       "</style>\n",
       "<table border=\"1\" class=\"dataframe\">\n",
       "  <thead>\n",
       "    <tr style=\"text-align: right;\">\n",
       "      <th></th>\n",
       "      <th>water</th>\n",
       "      <th>uv</th>\n",
       "      <th>area</th>\n",
       "      <th>fertilizer_usage</th>\n",
       "      <th>pesticides</th>\n",
       "      <th>region</th>\n",
       "      <th>yield</th>\n",
       "    </tr>\n",
       "  </thead>\n",
       "  <tbody>\n",
       "    <tr>\n",
       "      <th>0</th>\n",
       "      <td>5.615</td>\n",
       "      <td>65.281</td>\n",
       "      <td>3.230</td>\n",
       "      <td>0</td>\n",
       "      <td>8.969</td>\n",
       "      <td>0</td>\n",
       "      <td>7.977</td>\n",
       "    </tr>\n",
       "    <tr>\n",
       "      <th>1</th>\n",
       "      <td>7.044</td>\n",
       "      <td>73.319</td>\n",
       "      <td>9.081</td>\n",
       "      <td>0</td>\n",
       "      <td>7.197</td>\n",
       "      <td>0</td>\n",
       "      <td>23.009</td>\n",
       "    </tr>\n",
       "    <tr>\n",
       "      <th>2</th>\n",
       "      <td>5.607</td>\n",
       "      <td>60.038</td>\n",
       "      <td>2.864</td>\n",
       "      <td>2</td>\n",
       "      <td>7.424</td>\n",
       "      <td>0</td>\n",
       "      <td>23.019</td>\n",
       "    </tr>\n",
       "    <tr>\n",
       "      <th>3</th>\n",
       "      <td>9.346</td>\n",
       "      <td>64.719</td>\n",
       "      <td>2.797</td>\n",
       "      <td>2</td>\n",
       "      <td>1.256</td>\n",
       "      <td>0</td>\n",
       "      <td>28.066</td>\n",
       "    </tr>\n",
       "    <tr>\n",
       "      <th>4</th>\n",
       "      <td>7.969</td>\n",
       "      <td>NaN</td>\n",
       "      <td>5.407</td>\n",
       "      <td>1</td>\n",
       "      <td>0.274</td>\n",
       "      <td>0</td>\n",
       "      <td>29.140</td>\n",
       "    </tr>\n",
       "    <tr>\n",
       "      <th>...</th>\n",
       "      <td>...</td>\n",
       "      <td>...</td>\n",
       "      <td>...</td>\n",
       "      <td>...</td>\n",
       "      <td>...</td>\n",
       "      <td>...</td>\n",
       "      <td>...</td>\n",
       "    </tr>\n",
       "    <tr>\n",
       "      <th>4351</th>\n",
       "      <td>6.379</td>\n",
       "      <td>94.132</td>\n",
       "      <td>11.571</td>\n",
       "      <td>5</td>\n",
       "      <td>2.891</td>\n",
       "      <td>6</td>\n",
       "      <td>98.673</td>\n",
       "    </tr>\n",
       "    <tr>\n",
       "      <th>4352</th>\n",
       "      <td>6.980</td>\n",
       "      <td>82.727</td>\n",
       "      <td>11.264</td>\n",
       "      <td>5</td>\n",
       "      <td>3.500</td>\n",
       "      <td>6</td>\n",
       "      <td>101.090</td>\n",
       "    </tr>\n",
       "    <tr>\n",
       "      <th>4353</th>\n",
       "      <td>NaN</td>\n",
       "      <td>58.218</td>\n",
       "      <td>11.859</td>\n",
       "      <td>4</td>\n",
       "      <td>4.005</td>\n",
       "      <td>6</td>\n",
       "      <td>103.673</td>\n",
       "    </tr>\n",
       "    <tr>\n",
       "      <th>4354</th>\n",
       "      <td>10.070</td>\n",
       "      <td>67.905</td>\n",
       "      <td>11.567</td>\n",
       "      <td>4</td>\n",
       "      <td>2.339</td>\n",
       "      <td>6</td>\n",
       "      <td>104.343</td>\n",
       "    </tr>\n",
       "    <tr>\n",
       "      <th>4355</th>\n",
       "      <td>7.679</td>\n",
       "      <td>NaN</td>\n",
       "      <td>13.489</td>\n",
       "      <td>5</td>\n",
       "      <td>1.974</td>\n",
       "      <td>6</td>\n",
       "      <td>106.421</td>\n",
       "    </tr>\n",
       "  </tbody>\n",
       "</table>\n",
       "<p>4356 rows × 7 columns</p>\n",
       "</div>"
      ],
      "text/plain": [
       "       water      uv    area  fertilizer_usage  pesticides  region    yield\n",
       "0      5.615  65.281   3.230                 0       8.969       0    7.977\n",
       "1      7.044  73.319   9.081                 0       7.197       0   23.009\n",
       "2      5.607  60.038   2.864                 2       7.424       0   23.019\n",
       "3      9.346  64.719   2.797                 2       1.256       0   28.066\n",
       "4      7.969     NaN   5.407                 1       0.274       0   29.140\n",
       "...      ...     ...     ...               ...         ...     ...      ...\n",
       "4351   6.379  94.132  11.571                 5       2.891       6   98.673\n",
       "4352   6.980  82.727  11.264                 5       3.500       6  101.090\n",
       "4353     NaN  58.218  11.859                 4       4.005       6  103.673\n",
       "4354  10.070  67.905  11.567                 4       2.339       6  104.343\n",
       "4355   7.679     NaN  13.489                 5       1.974       6  106.421\n",
       "\n",
       "[4356 rows x 7 columns]"
      ]
     },
     "execution_count": 55,
     "metadata": {},
     "output_type": "execute_result"
    }
   ],
   "source": [
    "data"
   ]
  },
  {
   "cell_type": "code",
   "execution_count": 56,
   "id": "91870438",
   "metadata": {
    "scrolled": true
   },
   "outputs": [
    {
     "data": {
      "text/plain": [
       "water               182\n",
       "uv                  220\n",
       "area                  0\n",
       "fertilizer_usage      0\n",
       "pesticides            0\n",
       "region                0\n",
       "yield                 0\n",
       "dtype: int64"
      ]
     },
     "execution_count": 56,
     "metadata": {},
     "output_type": "execute_result"
    }
   ],
   "source": [
    "data.isnull().sum()"
   ]
  },
  {
   "cell_type": "code",
   "execution_count": 57,
   "id": "9770e03e",
   "metadata": {},
   "outputs": [],
   "source": [
    "import numpy as np"
   ]
  },
  {
   "cell_type": "code",
   "execution_count": 58,
   "id": "fe3d0445",
   "metadata": {},
   "outputs": [],
   "source": [
    "# data.water = pd.DataFrame(data.water).replace(np.nan, pd.DataFrame.median(data.water))#Replacing NaN with median\n",
    "# data.uv = pd.DataFrame(data.uv).replace(np.nan, pd.DataFrame.median(data.uv))#Replacing NaN with median\n",
    "data.water = data.water.fillna(data.water.median())\n",
    "\n",
    "# Replace NaN values with median in data.uv\n",
    "data.uv = data.uv.fillna(data.uv.median())"
   ]
  },
  {
   "cell_type": "code",
   "execution_count": 59,
   "id": "77e8ed23",
   "metadata": {
    "scrolled": true
   },
   "outputs": [
    {
     "data": {
      "text/plain": [
       "water               0\n",
       "uv                  0\n",
       "area                0\n",
       "fertilizer_usage    0\n",
       "pesticides          0\n",
       "region              0\n",
       "yield               0\n",
       "dtype: int64"
      ]
     },
     "execution_count": 59,
     "metadata": {},
     "output_type": "execute_result"
    }
   ],
   "source": [
    "data.isnull().sum()"
   ]
  },
  {
   "cell_type": "code",
   "execution_count": 60,
   "id": "74c2ebb2",
   "metadata": {},
   "outputs": [],
   "source": [
    "import seaborn as sns"
   ]
  },
  {
   "cell_type": "code",
   "execution_count": 61,
   "id": "dac9697d",
   "metadata": {
    "scrolled": false
   },
   "outputs": [
    {
     "data": {
      "text/plain": [
       "<Axes: ylabel='water'>"
      ]
     },
     "execution_count": 61,
     "metadata": {},
     "output_type": "execute_result"
    },
    {
     "data": {
      "image/png": "[encoded data removed]",
      "text/plain": [
       "<Figure size 640x480 with 1 Axes>"
      ]
     },
     "metadata": {},
     "output_type": "display_data"
    }
   ],
   "source": [
    "sns.boxplot(data[\"water\"])"
   ]
  },
  {
   "cell_type": "code",
   "execution_count": 62,
   "id": "3da48ec0",
   "metadata": {},
   "outputs": [],
   "source": [
    "data.drop(data[data['water']>200].index,inplace=True)"
   ]
  },
  {
   "cell_type": "code",
   "execution_count": 63,
   "id": "fa5fc266",
   "metadata": {},
   "outputs": [
    {
     "data": {
      "text/plain": [
       "<Axes: ylabel='water'>"
      ]
     },
     "execution_count": 63,
     "metadata": {},
     "output_type": "execute_result"
    },
    {
     "data": {
      "image/png": "[encoded data removed]",
      "text/plain": [
       "<Figure size 640x480 with 1 Axes>"
      ]
     },
     "metadata": {},
     "output_type": "display_data"
    }
   ],
   "source": [
    "sns.boxplot(data[\"water\"])"
   ]
  },
  {
   "cell_type": "code",
   "execution_count": 64,
   "id": "c6ac3a49",
   "metadata": {
    "scrolled": false
   },
   "outputs": [
    {
     "data": {
      "text/plain": [
       "<Axes: ylabel='uv'>"
      ]
     },
     "execution_count": 64,
     "metadata": {},
     "output_type": "execute_result"
    },
    {
     "data": {
      "image/png": "[encoded data removed]",
      "text/plain": [
       "<Figure size 640x480 with 1 Axes>"
      ]
     },
     "metadata": {},
     "output_type": "display_data"
    }
   ],
   "source": [
    "sns.boxplot(data[\"uv\"])"
   ]
  },
  {
   "cell_type": "code",
   "execution_count": 65,
   "id": "43f5a5a2",
   "metadata": {
    "scrolled": false
   },
   "outputs": [
    {
     "data": {
      "text/plain": [
       "<Axes: ylabel='count'>"
      ]
     },
     "execution_count": 65,
     "metadata": {},
     "output_type": "execute_result"
    },
    {
     "data": {
      "image/png": "[encoded data removed]",
      "text/plain": [
       "<Figure size 640x480 with 1 Axes>"
      ]
     },
     "metadata": {},
     "output_type": "display_data"
    }
   ],
   "source": [
    "sns.countplot(data[\"water\"])"
   ]
  },
  {
   "cell_type": "code",
   "execution_count": 66,
   "id": "35665f62",
   "metadata": {
    "scrolled": false
   },
   "outputs": [
    {
     "data": {
      "text/plain": [
       "<Axes: ylabel='count'>"
      ]
     },
     "execution_count": 66,
     "metadata": {},
     "output_type": "execute_result"
    },
    {
     "data": {
      "image/png": "[encoded data removed]",
      "text/plain": [
       "<Figure size 640x480 with 1 Axes>"
      ]
     },
     "metadata": {},
     "output_type": "display_data"
    }
   ],
   "source": [
    "sns.countplot(data[\"region\"])"
   ]
  },
  {
   "cell_type": "code",
   "execution_count": 67,
   "id": "852b12ba",
   "metadata": {
    "scrolled": true
   },
   "outputs": [
    {
     "data": {
      "text/plain": [
       "<Axes: xlabel='region', ylabel='water'>"
      ]
     },
     "execution_count": 67,
     "metadata": {},
     "output_type": "execute_result"
    },
    {
     "data": {
      "image/png": "[encoded data removed]",
      "text/plain": [
       "<Figure size 640x480 with 1 Axes>"
      ]
     },
     "metadata": {},
     "output_type": "display_data"
    }
   ],
   "source": [
    "sns.boxplot(x=data[\"region\"],y=data[\"water\"])"
   ]
  },
  {
   "cell_type": "code",
   "execution_count": 68,
   "id": "e1eeb3a6",
   "metadata": {
    "scrolled": true
   },
   "outputs": [
    {
     "data": {
      "text/plain": [
       "<Axes: xlabel='region', ylabel='uv'>"
      ]
     },
     "execution_count": 68,
     "metadata": {},
     "output_type": "execute_result"
    },
    {
     "data": {
      "image/png": "[encoded data removed]",
      "text/plain": [
       "<Figure size 640x480 with 1 Axes>"
      ]
     },
     "metadata": {},
     "output_type": "display_data"
    }
   ],
   "source": [
    "sns.boxplot(x=data[\"region\"],y=data[\"uv\"])"
   ]
  },
  {
   "cell_type": "code",
   "execution_count": 69,
   "id": "aa04aeeb",
   "metadata": {},
   "outputs": [
    {
     "data": {
      "text/plain": [
       "<Axes: xlabel='fertilizer_usage', ylabel='water'>"
      ]
     },
     "execution_count": 69,
     "metadata": {},
     "output_type": "execute_result"
    },
    {
     "data": {
      "image/png": "[encoded data removed]",
      "text/plain": [
       "<Figure size 640x480 with 1 Axes>"
      ]
     },
     "metadata": {},
     "output_type": "display_data"
    }
   ],
   "source": [
    "sns.boxplot(x=data[\"fertilizer_usage\"],y=data[\"water\"])"
   ]
  },
  {
   "cell_type": "code",
   "execution_count": 70,
   "id": "c21ffc45",
   "metadata": {},
   "outputs": [],
   "source": [
    "X=data.iloc[:,:-1].values\n",
    "y=data.iloc[:,-1].values"
   ]
  },
  {
   "cell_type": "code",
   "execution_count": 71,
   "id": "f8a18d6f",
   "metadata": {},
   "outputs": [],
   "source": [
    "from sklearn.model_selection import train_test_split\n",
    "from sklearn.linear_model import LinearRegression\n",
    "from sklearn.svm import LinearSVR"
   ]
  },
  {
   "cell_type": "code",
   "execution_count": 72,
   "id": "cc28fed9",
   "metadata": {},
   "outputs": [],
   "source": [
    "# from sklearn.preprocessing import StandardScaler\n",
    "# sc=StandardScaler()\n",
    "# X=sc.fit_transform(X)"
   ]
  },
  {
   "cell_type": "code",
   "execution_count": 73,
   "id": "3f5699b8",
   "metadata": {},
   "outputs": [],
   "source": [
    "from sklearn.metrics import accuracy_score\n",
    "from sklearn import metrics"
   ]
  },
  {
   "cell_type": "code",
   "execution_count": 74,
   "id": "80478e0c",
   "metadata": {},
   "outputs": [
    {
     "name": "stdout",
     "output_type": "stream",
     "text": [
      "Train set: (3916, 6) (3916,)\n",
      "Test set: (436, 6) (436,)\n"
     ]
    }
   ],
   "source": [
    "from sklearn.model_selection import train_test_split\n",
    "X_train, X_test, y_train, y_test = train_test_split(X, y, test_size=0.1, random_state=3)\n",
    "print ('Train set:', X_train.shape,  y_train.shape)\n",
    "print ('Test set:', X_test.shape,  y_test.shape)"
   ]
  },
  {
   "cell_type": "code",
   "execution_count": 75,
   "id": "c94805e0",
   "metadata": {},
   "outputs": [
    {
     "name": "stdout",
     "output_type": "stream",
     "text": [
      "Mean Absolute Er0rr 10.805292439916407\n",
      "Mean Squared Erorr 197.5190377221042\n",
      "Root Mean Squared Error 14.054146637989238\n"
     ]
    }
   ],
   "source": [
    "\n",
    "from sklearn.metrics import accuracy_score\n",
    "\n",
    "reg=LinearRegression()\n",
    "reg.fit(X_train,y_train)\n",
    "yhat=reg.predict(X_test)\n",
    "\n",
    "from sklearn.metrics import r2_score\n",
    "\n",
    "\n",
    "from sklearn.metrics import mean_absolute_error\n",
    "\n",
    "print(\"Mean Absolute Er0rr\", mean_absolute_error(y_test, yhat))\n",
    "\n",
    "from sklearn.metrics import mean_squared_error\n",
    "mean_squared_error= mean_squared_error(y_test, yhat)\n",
    "print(\"Mean Squared Erorr\", mean_squared_error)\n",
    "\n",
    "from math import sqrt\n",
    "rootMeanSquaredError = sqrt(mean_squared_error)\n",
    "print(\"Root Mean Squared Error\",rootMeanSquaredError)"
   ]
  },
  {
   "cell_type": "code",
   "execution_count": 76,
   "id": "15a26882",
   "metadata": {},
   "outputs": [
    {
     "name": "stdout",
     "output_type": "stream",
     "text": [
      "Train set: (3481, 6) (3481,)\n",
      "Test set: (871, 6) (871,)\n"
     ]
    }
   ],
   "source": [
    "from sklearn.model_selection import train_test_split\n",
    "X_train, X_test, y_train, y_test = train_test_split(X, y, test_size=0.2, random_state=3)\n",
    "print ('Train set:', X_train.shape,  y_train.shape)\n",
    "print ('Test set:', X_test.shape,  y_test.shape)"
   ]
  },
  {
   "cell_type": "code",
   "execution_count": 77,
   "id": "7ef2d48e",
   "metadata": {},
   "outputs": [
    {
     "name": "stdout",
     "output_type": "stream",
     "text": [
      "R2 aquare 0.6865392441569653\n",
      "Mean Absolute Er0rr 10.841892095697391\n",
      "Mean Squared Erorr 191.48382135562892\n",
      "Root Mean Squared Error 13.837767932568783\n"
     ]
    }
   ],
   "source": [
    "\n",
    "from sklearn.metrics import accuracy_score\n",
    "\n",
    "reg=LinearRegression()\n",
    "reg.fit(X_train,y_train)\n",
    "yhat=reg.predict(X_test)\n",
    "\n",
    "from sklearn.metrics import r2_score\n",
    "print(\"R2 aquare\",r2_score(y_test, yhat))\n",
    "\n",
    "from sklearn.metrics import mean_absolute_error\n",
    "\n",
    "print(\"Mean Absolute Er0rr\", mean_absolute_error(y_test, yhat))\n",
    "\n",
    "from sklearn.metrics import mean_squared_error\n",
    "mean_squared_error= mean_squared_error(y_test, yhat)\n",
    "print(\"Mean Squared Erorr\", mean_squared_error)\n",
    "\n",
    "from math import sqrt\n",
    "rootMeanSquaredError = sqrt(mean_squared_error)\n",
    "print(\"Root Mean Squared Error\",rootMeanSquaredError)"
   ]
  },
  {
   "cell_type": "code",
   "execution_count": 78,
   "id": "7aebb9e7",
   "metadata": {},
   "outputs": [
    {
     "name": "stdout",
     "output_type": "stream",
     "text": [
      "R2 aquare 0.6853376227748761\n",
      "Mean Absolute Error 10.870509217109298\n",
      "Mean Squared Erorr 192.21785599880536\n",
      "Root Mean Squared Error 13.864265433076696\n"
     ]
    }
   ],
   "source": [
    "from sklearn import linear_model\n",
    "reg = linear_model.Lasso(alpha=0.4)\n",
    "reg.fit(X_train,y_train)\n",
    "yhat=reg.predict(X_test)\n",
    "from sklearn.metrics import r2_score\n",
    "print(\"R2 aquare\",r2_score(y_test, yhat))\n",
    "\n",
    "from sklearn.metrics import mean_absolute_error\n",
    "\n",
    "print(\"Mean Absolute Error\", mean_absolute_error(y_test, yhat))\n",
    "\n",
    "from sklearn.metrics import mean_squared_error\n",
    "mean_squared_error= mean_squared_error(y_test, yhat)\n",
    "print(\"Mean Squared Erorr\", mean_squared_error)\n",
    "\n",
    "from math import sqrt\n",
    "rootMeanSquaredError = sqrt(mean_squared_error)\n",
    "print(\"Root Mean Squared Error\",rootMeanSquaredError)"
   ]
  },
  {
   "cell_type": "code",
   "execution_count": 79,
   "id": "2ff17503",
   "metadata": {},
   "outputs": [
    {
     "name": "stdout",
     "output_type": "stream",
     "text": [
      "R2 aquare 0.8515955059613217\n",
      "Mean Absolute Error 7.301853267024924\n",
      "Mean Squared Erorr 90.65587667728524\n",
      "Root Mean Squared Error 9.521337966761038\n"
     ]
    }
   ],
   "source": [
    "from sklearn.preprocessing import PolynomialFeatures\n",
    "poly_reg = PolynomialFeatures(degree = 2)\n",
    "X_poly = poly_reg.fit_transform(X_train)\n",
    "lin_reg_2 = LinearRegression()\n",
    "lin_reg_2.fit(X_poly, y_train)\n",
    "yhat=lin_reg_2.predict(poly_reg.fit_transform(X_test))\n",
    "from sklearn.metrics import r2_score\n",
    "print(\"R2 aquare\",r2_score(y_test, yhat))\n",
    "\n",
    "from sklearn.metrics import mean_absolute_error\n",
    "\n",
    "print(\"Mean Absolute Error\", mean_absolute_error(y_test, yhat))\n",
    "\n",
    "from sklearn.metrics import mean_squared_error\n",
    "mean_squared_error= mean_squared_error(y_test, yhat)\n",
    "print(\"Mean Squared Erorr\", mean_squared_error)\n",
    "\n",
    "from math import sqrt\n",
    "rootMeanSquaredError = sqrt(mean_squared_error)\n",
    "print(\"Root Mean Squared Error\",rootMeanSquaredError)"
   ]
  },
  {
   "cell_type": "code",
   "execution_count": 80,
   "id": "b6c62d01",
   "metadata": {},
   "outputs": [
    {
     "name": "stdout",
     "output_type": "stream",
     "text": [
      "R2 aquare 0.9932932332439129\n",
      "Mean Absolute Error 0.9133258323765816\n",
      "Mean Squared Erorr 4.096963665970151\n",
      "Root Mean Squared Error 2.024095765019568\n"
     ]
    }
   ],
   "source": [
    "from sklearn.ensemble import RandomForestRegressor\n",
    "regressor = RandomForestRegressor(n_estimators = 10, random_state = 50)\n",
    "regressor.fit(X_train, y_train)\n",
    "\n",
    "yhat=regressor.predict(X_test)\n",
    "from sklearn.metrics import r2_score\n",
    "print(\"R2 aquare\",r2_score(y_test, yhat))\n",
    "\n",
    "from sklearn.metrics import mean_absolute_error\n",
    "\n",
    "print(\"Mean Absolute Error\", mean_absolute_error(y_test, yhat))\n",
    "\n",
    "from sklearn.metrics import mean_squared_error\n",
    "mean_squared_error= mean_squared_error(y_test, yhat)\n",
    "print(\"Mean Squared Erorr\", mean_squared_error)\n",
    "\n",
    "from math import sqrt\n",
    "rootMeanSquaredError = sqrt(mean_squared_error)\n",
    "print(\"Root Mean Squared Error\",rootMeanSquaredError)"
   ]
  },
  {
   "cell_type": "code",
   "execution_count": 81,
   "id": "b81f26b0",
   "metadata": {},
   "outputs": [],
   "source": [
    "sample_data = [5.615,65.281,3.23,0,8.969,0]\n",
    "clean_data = [float(i) for i in sample_data]\n",
    "ex1 = np.array(clean_data).reshape(1,-1)"
   ]
  },
  {
   "cell_type": "code",
   "execution_count": 82,
   "id": "48402001",
   "metadata": {},
   "outputs": [],
   "source": [
    "yhat=lin_reg_2.predict(poly_reg.fit_transform(ex1))"
   ]
  },
  {
   "cell_type": "code",
   "execution_count": 83,
   "id": "ee7cd510",
   "metadata": {},
   "outputs": [
    {
     "data": {
      "text/plain": [
       "array([-22.86764739])"
      ]
     },
     "execution_count": 83,
     "metadata": {},
     "output_type": "execute_result"
    }
   ],
   "source": [
    "yhat"
   ]
  },
  {
   "cell_type": "code",
   "execution_count": 84,
   "id": "6bf1928e",
   "metadata": {},
   "outputs": [],
   "source": [
    "yhat=reg.predict(ex1)"
   ]
  },
  {
   "cell_type": "code",
   "execution_count": 85,
   "id": "26cea2ed",
   "metadata": {},
   "outputs": [
    {
     "data": {
      "text/plain": [
       "array([21.85404622])"
      ]
     },
     "execution_count": 85,
     "metadata": {},
     "output_type": "execute_result"
    }
   ],
   "source": [
    "yhat"
   ]
  },
  {
   "cell_type": "code",
   "execution_count": 86,
   "id": "834ef545",
   "metadata": {},
   "outputs": [
    {
     "data": {
      "text/plain": [
       "array([21.91260324])"
      ]
     },
     "execution_count": 86,
     "metadata": {},
     "output_type": "execute_result"
    }
   ],
   "source": [
    "reg=LinearRegression()\n",
    "reg.fit(X_train,y_train)\n",
    "yhat=reg.predict(ex1)\n",
    "yhat"
   ]
  },
  {
   "cell_type": "code",
   "execution_count": 87,
   "id": "5afddd47",
   "metadata": {},
   "outputs": [
    {
     "data": {
      "text/plain": [
       "array([21.85404622])"
      ]
     },
     "execution_count": 87,
     "metadata": {},
     "output_type": "execute_result"
    }
   ],
   "source": [
    "reg = linear_model.Lasso(alpha=0.4)\n",
    "reg.fit(X_train,y_train)\n",
    "yhat=reg.predict(ex1)\n",
    "yhat"
   ]
  },
  {
   "cell_type": "code",
   "execution_count": 88,
   "id": "c95bf44b",
   "metadata": {},
   "outputs": [],
   "source": [
    "regressor = RandomForestRegressor(n_estimators = 10, random_state = 50)\n",
    "regressor.fit(X_train, y_train)\n",
    "\n",
    "yhat=regressor.predict(ex1)"
   ]
  },
  {
   "cell_type": "code",
   "execution_count": 89,
   "id": "74922d3c",
   "metadata": {},
   "outputs": [
    {
     "data": {
      "text/plain": [
       "array([7.977])"
      ]
     },
     "execution_count": 89,
     "metadata": {},
     "output_type": "execute_result"
    }
   ],
   "source": [
    "yhat"
   ]
  },
  {
   "cell_type": "code",
   "execution_count": 90,
   "id": "8328c2d2",
   "metadata": {},
   "outputs": [
    {
     "data": {
      "text/plain": [
       "array([23.009])"
      ]
     },
     "execution_count": 90,
     "metadata": {},
     "output_type": "execute_result"
    }
   ],
   "source": [
    "sample_data = [7.044,73.319,9.081,0,7.197,0]\n",
    "clean_data = [float(i) for i in sample_data]\n",
    "ex1 = np.array(clean_data).reshape(1,-1)\n",
    "\n",
    "regressor = RandomForestRegressor(n_estimators = 10, random_state = 50)\n",
    "regressor.fit(X_train, y_train)\n",
    "\n",
    "yhat=regressor.predict(ex1)\n",
    "yhat\n"
   ]
  },
  {
   "cell_type": "code",
   "execution_count": 91,
   "id": "0c847f92",
   "metadata": {},
   "outputs": [
    {
     "data": {
      "text/plain": [
       "23.009000000000004"
      ]
     },
     "execution_count": 91,
     "metadata": {},
     "output_type": "execute_result"
    }
   ],
   "source": [
    "res = yhat[0]\n",
    "res"
   ]
  },
  {
   "cell_type": "code",
   "execution_count": 95,
   "id": "1b0ca212",
   "metadata": {},
   "outputs": [
    {
     "data": {
      "text/plain": [
       "array([50.5953])"
      ]
     },
     "execution_count": 95,
     "metadata": {},
     "output_type": "execute_result"
    }
   ],
   "source": [
    "sample_data = [4.805,59.935,7.387,1,5.023,0]\n",
    "clean_data = [float(i) for i in sample_data]\n",
    "ex1 = np.array(clean_data).reshape(1,-1)\n",
    "\n",
    "regressor = RandomForestRegressor(n_estimators = 10, random_state = 50)\n",
    "regressor.fit(X_train, y_train)\n",
    "\n",
    "yhat=regressor.predict(ex1)\n",
    "yhat"
   ]
  },
  {
   "cell_type": "code",
   "execution_count": 94,
   "id": "643068aa",
   "metadata": {},
   "outputs": [
    {
     "ename": "SyntaxError",
     "evalue": "invalid syntax (3641555837.py, line 1)",
     "output_type": "error",
     "traceback": [
      "\u001b[1;36m  Cell \u001b[1;32mIn[94], line 1\u001b[1;36m\u001b[0m\n\u001b[1;33m    4.805\t59.935\t7.387\t1\t5.023\t0\u001b[0m\n\u001b[1;37m         \t^\u001b[0m\n\u001b[1;31mSyntaxError\u001b[0m\u001b[1;31m:\u001b[0m invalid syntax\n"
     ]
    }
   ],
   "source": [
    "4.805\t59.935\t7.387\t1\t5.023\t0\n"
   ]
  }
 ],
 "metadata": {
  "kernelspec": {
   "display_name": "Python 3 (ipykernel)",
   "language": "python",
   "name": "python3"
  },
  "language_info": {
   "codemirror_mode": {
    "name": "ipython",
    "version": 3
   },
   "file_extension": ".py",
   "mimetype": "text/x-python",
   "name": "python",
   "nbconvert_exporter": "python",
   "pygments_lexer": "ipython3",
   "version": "3.12.4"
  }
 },
 "nbformat": 4,
 "nbformat_minor": 5
}
